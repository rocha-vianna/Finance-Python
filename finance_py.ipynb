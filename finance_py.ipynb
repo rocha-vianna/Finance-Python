{
 "cells": [
  {
   "cell_type": "code",
   "execution_count": 198,
   "id": "61c0e19b",
   "metadata": {},
   "outputs": [
    {
     "name": "stdout",
     "output_type": "stream",
     "text": [
      "Defaulting to user installation because normal site-packages is not writeable\n",
      "Requirement already satisfied: pymysql in c:\\users\\lets code\\appdata\\roaming\\python\\python39\\site-packages (1.0.2)\n",
      "Defaulting to user installation because normal site-packages is not writeable\n",
      "Requirement already satisfied: mysql-connector-python in c:\\users\\lets code\\appdata\\roaming\\python\\python39\\site-packages (8.0.31)\n",
      "Requirement already satisfied: protobuf<=3.20.1,>=3.11.0 in c:\\users\\lets code\\appdata\\roaming\\python\\python39\\site-packages (from mysql-connector-python) (3.20.1)\n"
     ]
    }
   ],
   "source": [
    "#Instalando biblioteca pymysql\n",
    "!pip install pymysql\n",
    "!pip install mysql-connector-python"
   ]
  },
  {
   "cell_type": "code",
   "execution_count": 199,
   "id": "dfb795c2",
   "metadata": {},
   "outputs": [],
   "source": [
    "#Importando bibliotecas usadas\n",
    "import os\n",
    "import pymysql\n",
    "import pyodbc\n",
    "import pandas as pd\n",
    "import mysql.connector"
   ]
  },
  {
   "cell_type": "code",
   "execution_count": 200,
   "id": "d37ed080",
   "metadata": {},
   "outputs": [],
   "source": [
    "#Configurando conexão\n",
    "host = os.getenv('127.0.0.1')\n",
    "port = os.getenv('3306')\n",
    "user = os.getenv('root')\n",
    "password = os.getenv('')\n",
    "database = os.getenv('fintech')\n",
    "\n",
    "conn = pymysql.connect(\n",
    "    host=host,\n",
    "    port=int(3306),\n",
    "    user=\"root\",\n",
    "    passwd=password,\n",
    "    db= 'fintech',\n",
    "    charset='utf8mb4')\n",
    "\n",
    "cursor = conn.cursor()"
   ]
  },
  {
   "cell_type": "code",
   "execution_count": 201,
   "id": "f0b1cf6a",
   "metadata": {},
   "outputs": [
    {
     "name": "stderr",
     "output_type": "stream",
     "text": [
      "C:\\ProgramData\\Anaconda3\\lib\\site-packages\\pandas\\io\\sql.py:762: UserWarning: pandas only support SQLAlchemy connectable(engine/connection) ordatabase string URI or sqlite3 DBAPI2 connectionother DBAPI2 objects are not tested, please consider using SQLAlchemy\n",
      "  warnings.warn(\n"
     ]
    },
    {
     "data": {
      "text/html": [
       "<div>\n",
       "<style scoped>\n",
       "    .dataframe tbody tr th:only-of-type {\n",
       "        vertical-align: middle;\n",
       "    }\n",
       "\n",
       "    .dataframe tbody tr th {\n",
       "        vertical-align: top;\n",
       "    }\n",
       "\n",
       "    .dataframe thead th {\n",
       "        text-align: right;\n",
       "    }\n",
       "</style>\n",
       "<table border=\"1\" class=\"dataframe\">\n",
       "  <thead>\n",
       "    <tr style=\"text-align: right;\">\n",
       "      <th></th>\n",
       "      <th>id</th>\n",
       "      <th>valor</th>\n",
       "      <th>coment</th>\n",
       "      <th>metodo</th>\n",
       "      <th>tipo</th>\n",
       "      <th>subtipo</th>\n",
       "      <th>dat</th>\n",
       "    </tr>\n",
       "  </thead>\n",
       "  <tbody>\n",
       "    <tr>\n",
       "      <th>0</th>\n",
       "      <td>1</td>\n",
       "      <td>31.75</td>\n",
       "      <td>comentario</td>\n",
       "      <td>Débito</td>\n",
       "      <td>Compra Essencial</td>\n",
       "      <td>Saúde</td>\n",
       "      <td>2022-11-01 12:06:44</td>\n",
       "    </tr>\n",
       "    <tr>\n",
       "      <th>1</th>\n",
       "      <td>2</td>\n",
       "      <td>15.85</td>\n",
       "      <td>cigarro</td>\n",
       "      <td>Crédito</td>\n",
       "      <td>Contas_Diversas</td>\n",
       "      <td>Vícios</td>\n",
       "      <td>2022-11-01 12:24:12</td>\n",
       "    </tr>\n",
       "    <tr>\n",
       "      <th>2</th>\n",
       "      <td>3</td>\n",
       "      <td>15.74</td>\n",
       "      <td>ok</td>\n",
       "      <td>Ticket</td>\n",
       "      <td>Contas_Diversas</td>\n",
       "      <td>Amigos</td>\n",
       "      <td>2022-11-01 12:25:16</td>\n",
       "    </tr>\n",
       "    <tr>\n",
       "      <th>3</th>\n",
       "      <td>4</td>\n",
       "      <td>156.89</td>\n",
       "      <td>caro</td>\n",
       "      <td>Dinheiro</td>\n",
       "      <td>Contas Fixas</td>\n",
       "      <td>Casa</td>\n",
       "      <td>2022-11-01 12:27:06</td>\n",
       "    </tr>\n",
       "  </tbody>\n",
       "</table>\n",
       "</div>"
      ],
      "text/plain": [
       "   id   valor      coment    metodo              tipo subtipo  \\\n",
       "0   1   31.75  comentario    Débito  Compra Essencial   Saúde   \n",
       "1   2   15.85     cigarro   Crédito   Contas_Diversas  Vícios   \n",
       "2   3   15.74          ok    Ticket   Contas_Diversas  Amigos   \n",
       "3   4  156.89        caro  Dinheiro      Contas Fixas    Casa   \n",
       "\n",
       "                  dat  \n",
       "0 2022-11-01 12:06:44  \n",
       "1 2022-11-01 12:24:12  \n",
       "2 2022-11-01 12:25:16  \n",
       "3 2022-11-01 12:27:06  "
      ]
     },
     "execution_count": 201,
     "metadata": {},
     "output_type": "execute_result"
    }
   ],
   "source": [
    "#Verificando primeiros 10 registros da tabela usada\n",
    "df = pd.read_sql_query(\"SELECT * FROM conta\", conn)\n",
    "df.tail(10)"
   ]
  },
  {
   "cell_type": "code",
   "execution_count": 202,
   "id": "e4114bed",
   "metadata": {},
   "outputs": [],
   "source": [
    "#Bloco principal do código\n",
    "def main():\n",
    "    x = menu()\n",
    "    if x == 1:\n",
    "        print(\"--------Método--------\")\n",
    "        opcao1()\n",
    "    else:\n",
    "        if sair() != 0:\n",
    "            if x is None or x == '':\n",
    "                print(\"Opção inválida\")\n",
    "                main()"
   ]
  },
  {
   "cell_type": "code",
   "execution_count": 203,
   "id": "bee149e6",
   "metadata": {},
   "outputs": [],
   "source": [
    "#Bloco para finalizar a aplicação, quando o usuário digitar 0 (ZERO)\n",
    "def sair():\n",
    "    x = input(\"Se deseja sair, digite 0: \")\n",
    "    if not x is None or not x == '':x = int(x)\n",
    "    if x == 0:\n",
    "        print(\"Final\")\n",
    "    return x"
   ]
  },
  {
   "cell_type": "code",
   "execution_count": 204,
   "id": "a8cdea8d",
   "metadata": {},
   "outputs": [],
   "source": [
    "#Bloco que configura e imprime o menu\n",
    "def menu():\n",
    "    print(\"Bem vindo ao seu registro financeiro: \")\n",
    "    print(\"1. Definir método de pagamento\")\n",
    "    print(\"0. Sair\")\n",
    "    opcao = input(\"Digite a opção desejada: \")\n",
    "    if not opcao is None or not opcao == '':inte = int(opcao)\n",
    "    return inte"
   ]
  },
  {
   "cell_type": "code",
   "execution_count": 205,
   "id": "c8345a41",
   "metadata": {},
   "outputs": [],
   "source": [
    "#Bloco com formas de pagamento\n",
    "def opcao1():\n",
    "    print(\"Temos essas formas de pagamento:\\n\" + \"1. Dinheiro\\n\" + \"2. Débito\\n\" + \"3. Crédito\\n\" + \"4. Ticket\")\n",
    "    x = input(\"Opção desejada: \")\n",
    "    if not x is None or not x == '':x = int(x)\n",
    "    if x == 1:\n",
    "        print(\"--------Dinheiro--------\")\n",
    "        valorGasto(\"Dinheiro\")\n",
    "    elif x == 2:\n",
    "        print(\"--------Débito--------\")\n",
    "        valorGasto(\"Débito\")\n",
    "    elif x == 3:\n",
    "        print(\"--------Crédito--------\")\n",
    "        valorGasto(\"Crédito\")\n",
    "    elif x == 4:\n",
    "        print(\"--------Ticket--------\")\n",
    "        valorGasto(\"Ticket\")\n",
    "    else:\n",
    "        if sair() != 0:\n",
    "            if x is None or x == '':\n",
    "                print(\"--------Opção inválida--------\")\n",
    "                opcao1()"
   ]
  },
  {
   "cell_type": "code",
   "execution_count": 206,
   "id": "b0b79bbb",
   "metadata": {},
   "outputs": [],
   "source": [
    "#Especificando o tipo de Conta Fixa\n",
    "def subtipo_cf(metodo, tipo, valor):\n",
    "    print(\"Sub-Tipo de Conta Fixa:\\n\" + \"1. Internet\\n\" + \"2. Telefone\\n\" + \"3. Casa (aluguel, condomínio, reformas)\\n\")\n",
    "    x = input(\"Opção desejada: \")\n",
    "    if not x is None or not x == '':x = int(x)\n",
    "    if x == 1:\n",
    "        print(\"Inserindo em Conta Fixa - Internet\")\n",
    "        subtipo = \"Internet\"\n",
    "        insercFeita(metodo, tipo, subtipo, valor)\n",
    "    if x == 2:\n",
    "        print(\"Inserindo em Conta Fixa - Telefone\")\n",
    "        subtipo = \"Telefone\"\n",
    "        insercFeita(metodo, tipo, subtipo, valor)\n",
    "    if x == 3:\n",
    "        print(\"Inserindo em Conta Fixa - Casa\")\n",
    "        subtipo = \"Casa\"\n",
    "        insercFeita(metodo, tipo, subtipo, valor)\n",
    "    else:\n",
    "        if sair() != 0:\n",
    "            if x is None or x == '':\n",
    "                print(\"Sub-Tipo inválido!! Selecione novamente entre os sub-tipos exibidos.\")\n",
    "                subtipo_cd(metodo, tipo, valor)"
   ]
  },
  {
   "cell_type": "code",
   "execution_count": 207,
   "id": "e7ff3cbc",
   "metadata": {},
   "outputs": [],
   "source": [
    "#Especificando o tipo de Compras Diversas\n",
    "def subtipo_cd(metodo, tipo, valor):\n",
    "    print(\"Tipo de Compra Diversa:\\n\" + \"1. PETs\\n\" + \"2. Farmácia\\n\" + \"3. Vícios\\n\" + \"4. Amigos\\n\" + \"5. Outras\\n\")\n",
    "    x = input(\"Opção desejada: \")\n",
    "    if not x is None or not x == '':x = int(x)\n",
    "    if x == 1:\n",
    "        print(\"Inserindo em Compra Diversa - PETs\")\n",
    "        subtipo = \"PETs\"\n",
    "        insercFeita(metodo, tipo, subtipo, valor)\n",
    "    if x == 2:\n",
    "        print(\"Inserindo em Compra Diversa - Farmácia\")\n",
    "        subtipo = \"Farmácia\"\n",
    "        insercFeita(metodo, tipo, subtipo, valor)\n",
    "    if x == 3:\n",
    "        print(\"Inserindo em Compra Diversa - Vícios\")\n",
    "        subtipo = \"Vícios\"\n",
    "        insercFeita(metodo, tipo, subtipo, valor)\n",
    "    if x == 4:\n",
    "        print(\"Inserindo em Compra Diversa - Amigos\")\n",
    "        subtipo = \"Amigos\"\n",
    "        insercFeita(metodo, tipo, subtipo, valor)\n",
    "    if x == 5:\n",
    "        print(\"Inserindo em Compra Diversa - Outras\")\n",
    "        subtipo = \"Outras\"\n",
    "        insercFeita(metodo, tipo, subtipo, valor)\n",
    "    else:\n",
    "        if sair() != 0:\n",
    "            if x is None or x == '':\n",
    "                print(\"Sub-Tipo inválido!! Selecione novamente entre os sub-tipos exibidos.\")\n",
    "                subtipo_cd(metodo, tipo, valor)"
   ]
  },
  {
   "cell_type": "code",
   "execution_count": 208,
   "id": "03a0c35b",
   "metadata": {},
   "outputs": [],
   "source": [
    "#Especificando o tipo de Compras Essenciais\n",
    "def subtipo_ce(metodo, tipo, valor):\n",
    "    print(\"Sub-Tipo de Compra Essencial:\\n\" + \"1. Alimentação\\n\" + \"2. Roupas\\n\" + \"3. Beleza\\n\" + \"4. Saúde\\n\")\n",
    "    x = input(\"Opção desejada: \")\n",
    "    if not x is None or not x == '':x = int(x)\n",
    "    if x == 1:\n",
    "        print(\"Inserindo em Compra Essencial - Alimentação\")\n",
    "        subtipo = \"Alimentação\"\n",
    "        insercFeita(metodo, tipo, subtipo, valor)\n",
    "    if x == 2:\n",
    "        print(\"Inserindo em Compra Essencial - Roupas\")\n",
    "        subtipo = \"Roupas\"\n",
    "        insercFeita(metodo, tipo, subtipo, valor)\n",
    "    if x == 3:\n",
    "        print(\"Inserindo em Compra Essencial - Beleza\")\n",
    "        subtipo = \"Beleza\"\n",
    "        insercFeita(metodo, tipo, subtipo, valor)\n",
    "    if x == 4:\n",
    "        print(\"Inserindo em Compra Essencial - Saúde\")\n",
    "        subtipo = \"Saúde\"\n",
    "        insercFeita(metodo, tipo, subtipo, valor)\n",
    "    else:\n",
    "        if sair() != 0:\n",
    "            if x is None or x == '':\n",
    "                print(\"Sub-Tipo inválido!! Selecione novamente entre os sub-tipos exibidos.\")\n",
    "                subtipo_cd(metodo, tipo, valor)"
   ]
  },
  {
   "cell_type": "code",
   "execution_count": 209,
   "id": "7e9d6c6b",
   "metadata": {},
   "outputs": [],
   "source": [
    "#Inserindo um registro na tabela\n",
    "def insTable (metodo, tipo, subtipo, valor):\n",
    "    comentario = input(\"Digite um comentário: \")\n",
    "    args = (metodo, tipo, subtipo, valor, comentario)\n",
    "    query = cursor.execute(\"INSERT INTO fintech.conta (metodo, tipo, subtipo, valor, coment, dat) VALUES (%s, %s, %s, %s, %s, sysdate())\", (args))\n",
    "    query = cursor.execute(\"COMMIT\")"
   ]
  },
  {
   "cell_type": "code",
   "execution_count": 210,
   "id": "96ad1394",
   "metadata": {},
   "outputs": [],
   "source": [
    "#Realizando o SELECT na tabela\n",
    "def selec():\n",
    "    selec = pd.read_sql(\"SELECT metodo, tipo, subtipo, valor, coment, DATE_FORMAT(dat,'%d/%m/%Y') AS Data_PTBR FROM fintech.conta\", conn)\n",
    "    print(selec)"
   ]
  },
  {
   "cell_type": "code",
   "execution_count": 211,
   "id": "1c98ebbc",
   "metadata": {},
   "outputs": [],
   "source": [
    "#Confirmando se a inserção foi feita e qual foi feita\n",
    "def insercFeita(metodo, tipo, subtipo, valor):\n",
    "    print(\"Registrado em \", tipo, \" - \", subtipo)\n",
    "    insTable(metodo, tipo, subtipo, valor)\n",
    "    selec()"
   ]
  },
  {
   "cell_type": "code",
   "execution_count": 212,
   "id": "e6fc74d4",
   "metadata": {},
   "outputs": [],
   "source": [
    "#Definindo as categorias dos registros\n",
    "def categoria(metodo, valor):\n",
    "    print(\"Categorias\\n\" + \"1. Contas fixas\\n\" + \"2. Compras diversas\\n\" + \"3. Compras essenciais\\n\")\n",
    "    categoria = input(\"Selecione a categoria: \")\n",
    "    if not categoria is None or not categoria == '':categoria = int(categoria)\n",
    "    if categoria == 1:\n",
    "        tipo = \"Contas Fixas\" \n",
    "        subtipo_cf(metodo, tipo, valor)\n",
    "    elif categoria == 2:\n",
    "        tipo = \"Compras Diversas\" \n",
    "        subtipo_cd(metodo, tipo, valor)\n",
    "    elif categoria == 3:\n",
    "        tipo = \"Compras Essenciais\" \n",
    "        subtipo_ce(metodo, tipo, valor)\n",
    "    else:\n",
    "        if sair() != 0:\n",
    "            if x is None or x == '':\n",
    "                print(\"Categoria inválida!\")\n",
    "                categoria(metodo, valor) "
   ]
  },
  {
   "cell_type": "code",
   "execution_count": 213,
   "id": "500cbc9d",
   "metadata": {},
   "outputs": [],
   "source": [
    "#Solicita o valor gasto e em qual categoria foi feito\n",
    "def valorGasto(metodo):\n",
    "    valor = float(input(\"Valor gasto: \"))\n",
    "    print(\"Em qual categoria foi gasto: \")\n",
    "    categoria(metodo, valor)"
   ]
  },
  {
   "cell_type": "code",
   "execution_count": 214,
   "id": "27228c58",
   "metadata": {
    "scrolled": true
   },
   "outputs": [
    {
     "name": "stdout",
     "output_type": "stream",
     "text": [
      "Bem vindo ao seu registro financeiro: \n",
      "1. Definir método de pagamento\n",
      "0. Sair\n",
      "Digite a opção desejada: 1\n",
      "--------Método--------\n",
      "Temos essas formas de pagamento:\n",
      "1. Dinheiro\n",
      "2. Débito\n",
      "3. Crédito\n",
      "4. Ticket\n",
      "Opção desejada: 0\n",
      "Se deseja sair, digite 0: \n"
     ]
    },
    {
     "ename": "ValueError",
     "evalue": "invalid literal for int() with base 10: ''",
     "output_type": "error",
     "traceback": [
      "\u001b[1;31m---------------------------------------------------------------------------\u001b[0m",
      "\u001b[1;31mValueError\u001b[0m                                Traceback (most recent call last)",
      "\u001b[1;32m~\\AppData\\Local\\Temp\\ipykernel_17628\\451043146.py\u001b[0m in \u001b[0;36m<module>\u001b[1;34m\u001b[0m\n\u001b[1;32m----> 1\u001b[1;33m \u001b[0mmain\u001b[0m\u001b[1;33m(\u001b[0m\u001b[1;33m)\u001b[0m\u001b[1;33m\u001b[0m\u001b[1;33m\u001b[0m\u001b[0m\n\u001b[0m",
      "\u001b[1;32m~\\AppData\\Local\\Temp\\ipykernel_17628\\3730904635.py\u001b[0m in \u001b[0;36mmain\u001b[1;34m()\u001b[0m\n\u001b[0;32m      4\u001b[0m     \u001b[1;32mif\u001b[0m \u001b[0mx\u001b[0m \u001b[1;33m==\u001b[0m \u001b[1;36m1\u001b[0m\u001b[1;33m:\u001b[0m\u001b[1;33m\u001b[0m\u001b[1;33m\u001b[0m\u001b[0m\n\u001b[0;32m      5\u001b[0m         \u001b[0mprint\u001b[0m\u001b[1;33m(\u001b[0m\u001b[1;34m\"--------Método--------\"\u001b[0m\u001b[1;33m)\u001b[0m\u001b[1;33m\u001b[0m\u001b[1;33m\u001b[0m\u001b[0m\n\u001b[1;32m----> 6\u001b[1;33m         \u001b[0mopcao1\u001b[0m\u001b[1;33m(\u001b[0m\u001b[1;33m)\u001b[0m\u001b[1;33m\u001b[0m\u001b[1;33m\u001b[0m\u001b[0m\n\u001b[0m\u001b[0;32m      7\u001b[0m     \u001b[1;32melse\u001b[0m\u001b[1;33m:\u001b[0m\u001b[1;33m\u001b[0m\u001b[1;33m\u001b[0m\u001b[0m\n\u001b[0;32m      8\u001b[0m         \u001b[1;32mif\u001b[0m \u001b[0msair\u001b[0m\u001b[1;33m(\u001b[0m\u001b[1;33m)\u001b[0m \u001b[1;33m!=\u001b[0m \u001b[1;36m0\u001b[0m\u001b[1;33m:\u001b[0m\u001b[1;33m\u001b[0m\u001b[1;33m\u001b[0m\u001b[0m\n",
      "\u001b[1;32m~\\AppData\\Local\\Temp\\ipykernel_17628\\121939453.py\u001b[0m in \u001b[0;36mopcao1\u001b[1;34m()\u001b[0m\n\u001b[0;32m     17\u001b[0m         \u001b[0mvalorGasto\u001b[0m\u001b[1;33m(\u001b[0m\u001b[1;34m\"Ticket\"\u001b[0m\u001b[1;33m)\u001b[0m\u001b[1;33m\u001b[0m\u001b[1;33m\u001b[0m\u001b[0m\n\u001b[0;32m     18\u001b[0m     \u001b[1;32melse\u001b[0m\u001b[1;33m:\u001b[0m\u001b[1;33m\u001b[0m\u001b[1;33m\u001b[0m\u001b[0m\n\u001b[1;32m---> 19\u001b[1;33m         \u001b[1;32mif\u001b[0m \u001b[0msair\u001b[0m\u001b[1;33m(\u001b[0m\u001b[1;33m)\u001b[0m \u001b[1;33m!=\u001b[0m \u001b[1;36m0\u001b[0m\u001b[1;33m:\u001b[0m\u001b[1;33m\u001b[0m\u001b[1;33m\u001b[0m\u001b[0m\n\u001b[0m\u001b[0;32m     20\u001b[0m             \u001b[1;32mif\u001b[0m \u001b[0mx\u001b[0m \u001b[1;32mis\u001b[0m \u001b[1;32mNone\u001b[0m \u001b[1;32mor\u001b[0m \u001b[0mx\u001b[0m \u001b[1;33m==\u001b[0m \u001b[1;34m''\u001b[0m\u001b[1;33m:\u001b[0m\u001b[1;33m\u001b[0m\u001b[1;33m\u001b[0m\u001b[0m\n\u001b[0;32m     21\u001b[0m                 \u001b[0mprint\u001b[0m\u001b[1;33m(\u001b[0m\u001b[1;34m\"--------Opção inválida--------\"\u001b[0m\u001b[1;33m)\u001b[0m\u001b[1;33m\u001b[0m\u001b[1;33m\u001b[0m\u001b[0m\n",
      "\u001b[1;32m~\\AppData\\Local\\Temp\\ipykernel_17628\\1450378158.py\u001b[0m in \u001b[0;36msair\u001b[1;34m()\u001b[0m\n\u001b[0;32m      2\u001b[0m \u001b[1;32mdef\u001b[0m \u001b[0msair\u001b[0m\u001b[1;33m(\u001b[0m\u001b[1;33m)\u001b[0m\u001b[1;33m:\u001b[0m\u001b[1;33m\u001b[0m\u001b[1;33m\u001b[0m\u001b[0m\n\u001b[0;32m      3\u001b[0m     \u001b[0mx\u001b[0m \u001b[1;33m=\u001b[0m \u001b[0minput\u001b[0m\u001b[1;33m(\u001b[0m\u001b[1;34m\"Se deseja sair, digite 0: \"\u001b[0m\u001b[1;33m)\u001b[0m\u001b[1;33m\u001b[0m\u001b[1;33m\u001b[0m\u001b[0m\n\u001b[1;32m----> 4\u001b[1;33m     \u001b[1;32mif\u001b[0m \u001b[1;32mnot\u001b[0m \u001b[0mx\u001b[0m \u001b[1;32mis\u001b[0m \u001b[1;32mNone\u001b[0m \u001b[1;32mor\u001b[0m \u001b[1;32mnot\u001b[0m \u001b[0mx\u001b[0m \u001b[1;33m==\u001b[0m \u001b[1;34m''\u001b[0m\u001b[1;33m:\u001b[0m\u001b[0mx\u001b[0m \u001b[1;33m=\u001b[0m \u001b[0mint\u001b[0m\u001b[1;33m(\u001b[0m\u001b[0mx\u001b[0m\u001b[1;33m)\u001b[0m\u001b[1;33m\u001b[0m\u001b[1;33m\u001b[0m\u001b[0m\n\u001b[0m\u001b[0;32m      5\u001b[0m     \u001b[1;32mif\u001b[0m \u001b[0mx\u001b[0m \u001b[1;33m==\u001b[0m \u001b[1;36m0\u001b[0m\u001b[1;33m:\u001b[0m\u001b[1;33m\u001b[0m\u001b[1;33m\u001b[0m\u001b[0m\n\u001b[0;32m      6\u001b[0m         \u001b[0mprint\u001b[0m\u001b[1;33m(\u001b[0m\u001b[1;34m\"Final\"\u001b[0m\u001b[1;33m)\u001b[0m\u001b[1;33m\u001b[0m\u001b[1;33m\u001b[0m\u001b[0m\n",
      "\u001b[1;31mValueError\u001b[0m: invalid literal for int() with base 10: ''"
     ]
    }
   ],
   "source": [
    "main()"
   ]
  },
  {
   "cell_type": "code",
   "execution_count": null,
   "id": "56cbc7f0",
   "metadata": {},
   "outputs": [],
   "source": []
  }
 ],
 "metadata": {
  "kernelspec": {
   "display_name": "Python 3 (ipykernel)",
   "language": "python",
   "name": "python3"
  },
  "language_info": {
   "codemirror_mode": {
    "name": "ipython",
    "version": 3
   },
   "file_extension": ".py",
   "mimetype": "text/x-python",
   "name": "python",
   "nbconvert_exporter": "python",
   "pygments_lexer": "ipython3",
   "version": "3.9.13"
  }
 },
 "nbformat": 4,
 "nbformat_minor": 5
}
